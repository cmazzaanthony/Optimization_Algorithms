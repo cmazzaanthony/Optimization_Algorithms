{
 "cells": [
  {
   "cell_type": "markdown",
   "metadata": {},
   "source": [
    "# Gradient method with Armijo Rule"
   ]
  },
  {
   "cell_type": "code",
   "execution_count": 2,
   "metadata": {},
   "outputs": [],
   "source": [
    "import numpy as np"
   ]
  },
  {
   "cell_type": "markdown",
   "metadata": {},
   "source": [
    "## Algorithm"
   ]
  },
  {
   "cell_type": "markdown",
   "metadata": {},
   "source": [
    "<div style=\"text-align:center\"><img src=\"gradient_method.png\" width=\"700\" height=\"600\"></div>"
   ]
  },
  {
   "cell_type": "markdown",
   "metadata": {},
   "source": [
    "## Step Size: Armijo Rule\n",
    "- We want to combine the search direction $d^k = - \\nabla f(x^k)$ with step-size $t_k$\n",
    "- The Armijo rule is supposed to ensure a sufficient decrease of the objective function"
   ]
  },
  {
   "cell_type": "code",
   "execution_count": 3,
   "metadata": {},
   "outputs": [],
   "source": [
    "def step_size(self, beta, sigma, x, d, func):\n",
    "    \"\"\"\n",
    "    Armijo's Rule\n",
    "    \"\"\"\n",
    "    i = 0\n",
    "    inequality_satisfied = True\n",
    "    while inequality_satisfied:\n",
    "        if func.eval(x + np.power(beta, i) * d) <= func.eval(x) + np.power(beta, i) * sigma * func.gradient(x).dot(\n",
    "                d):\n",
    "            break\n",
    "\n",
    "        i += 1\n",
    "\n",
    "    return np.power(beta, i)"
   ]
  },
  {
   "cell_type": "markdown",
   "metadata": {},
   "source": [
    "## Rosenbrock Function\n",
    "- Introduced by Howard H. Rosenbrock in 1960, used as a performance test problem for optimization problems.\n",
    "- The Rosenbrock function $r: \\mathbb{R}^2 \\rightarrow \\mathbb{R}$ is given by:\n",
    "$$r(x) = 100 (x_2 - x_1^2)^2+ (1 - x_1)^2$$"
   ]
  },
  {
   "cell_type": "code",
   "execution_count": 4,
   "metadata": {},
   "outputs": [],
   "source": [
    "import numpy as np\n",
    "from src.function import Function\n",
    "\n",
    "class Rosenbrock(Function):\n",
    "\n",
    "    def eval(self, x):\n",
    "        assert len(x) == 2, '2 dimensional input only.'\n",
    "        return 100 * (x[1] - x[0] ** 2) ** 2 + (1 - x[0]) ** 2\n",
    "\n",
    "    def gradient(self, x):\n",
    "        assert len(x) == 2, '2 dimensional input only.'\n",
    "        return np.array([\n",
    "            2 * (-200 * x[0] * x[1] + 200 * np.power(x[0], 3) - 1 + x[0]),\n",
    "            200 * (x[1] - x[0] ** 2)\n",
    "        ])\n",
    "\n",
    "    def hessian(self, x):\n",
    "        assert len(x) == 2, '2 dimensional input only.'\n",
    "        df_dx1 = -400 * x[1] + 1200 * x[0] ** 2 + 2\n",
    "        df_dx1dx2 = -400 * x[0]\n",
    "        df_dx2dx1 = -400 * x[0]\n",
    "        df_dx2 = 200\n",
    "\n",
    "        return np.array([[df_dx1, df_dx1dx2], [df_dx2dx1, df_dx2]])"
   ]
  },
  {
   "cell_type": "markdown",
   "metadata": {},
   "source": [
    "## Example\n",
    "- The parameters will be the following:\n",
    "$$\\beta := 0.5, \\sigma := 10^{-4}, \\varepsilon := 10^{-4}$$\n",
    "- Start point will be the following:\n",
    "$$x^0 := (-1.2, 1)$$"
   ]
  },
  {
   "cell_type": "code",
   "execution_count": 5,
   "metadata": {},
   "outputs": [
    {
     "name": "stdout",
     "output_type": "stream",
     "text": [
      "Optimal Point: [0.99992058 0.9998407 ]\n",
      "Iterations: 8058\n"
     ]
    }
   ],
   "source": [
    "from src.optimizers.gradient_method import GradientMethod\n",
    "\n",
    "objective = Rosenbrock()\n",
    "starting_point = np.array([-1.2, 1])\n",
    "beta = 0.5\n",
    "sigma = 0.0001\n",
    "epsilon = 0.0001\n",
    "\n",
    "optimizer = GradientMethod()\n",
    "\n",
    "x = optimizer.optimize(starting_point,\n",
    "                       objective,\n",
    "                       beta,\n",
    "                       sigma,\n",
    "                       epsilon)\n",
    "\n",
    "print(f'Optimal Point: {x}')\n",
    "print(f'Iterations: {optimizer.iterations}')"
   ]
  }
 ],
 "metadata": {
  "kernelspec": {
   "display_name": "Python 3",
   "language": "python",
   "name": "python3"
  },
  "language_info": {
   "codemirror_mode": {
    "name": "ipython",
    "version": 3
   },
   "file_extension": ".py",
   "mimetype": "text/x-python",
   "name": "python",
   "nbconvert_exporter": "python",
   "pygments_lexer": "ipython3",
   "version": "3.7.3"
  }
 },
 "nbformat": 4,
 "nbformat_minor": 2
}
