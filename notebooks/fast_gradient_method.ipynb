{
 "cells": [
  {
   "cell_type": "markdown",
   "metadata": {},
   "source": [
    "# Fast Gradient method with Armijo Rule"
   ]
  },
  {
   "cell_type": "code",
   "execution_count": 1,
   "metadata": {},
   "outputs": [],
   "source": [
    "import numpy as np"
   ]
  },
  {
   "cell_type": "markdown",
   "metadata": {},
   "source": [
    "## Algorithm"
   ]
  },
  {
   "cell_type": "markdown",
   "metadata": {},
   "source": [
    "<div style=\"text-align:center\"><img src=\"fast_gradient_method.png\" width=\"700\" height=\"600\"></div>"
   ]
  },
  {
   "cell_type": "markdown",
   "metadata": {},
   "source": [
    "## Quadratic Function\n",
    "- This function is a polynomial of degree 2.\n",
    "- The Quadratic function $r: \\mathbb{R}^n \\rightarrow \\mathbb{R}$ is given by:\n",
    "$$f(x) = \\frac{1}{2} x^T Q x + b^T x + c $$"
   ]
  },
  {
   "cell_type": "code",
   "execution_count": 2,
   "metadata": {},
   "outputs": [],
   "source": [
    "from src.function import Function\n",
    "\n",
    "\n",
    "class Quadratic(Function):\n",
    "\n",
    "    def eval(self, Q, c, x, gamma):\n",
    "        return 0.5 * x.T.dot(Q).dot(x) + c + gamma\n",
    "\n",
    "    def gradient(self, Q, c, x):\n",
    "        return Q.dot(x) + c\n",
    "\n",
    "    def hessian(self):\n",
    "        pass"
   ]
  },
  {
   "cell_type": "markdown",
   "metadata": {},
   "source": [
    "## Example\n",
    "- The parameters will be the following:\n",
    "$$\\varepsilon := 10^{-5}, \\delta = 0.01$$\n",
    "- Start point will be the following:\n",
    "$$x^0 := (1, 2, 3, 4)$$\n",
    "- The Q matrix will be the following:\n",
    "$$\\begin{bmatrix}1 & 0 & 0 & 0 \\\\ 0 & 1 & 0 & 0 \\\\ 0 & 0 & 1 & 0 \\\\ 0 & 0 & 0 & \\delta \\end{bmatrix}$$"
   ]
  },
  {
   "cell_type": "code",
   "execution_count": 6,
   "metadata": {},
   "outputs": [
    {
     "name": "stdout",
     "output_type": "stream",
     "text": [
      "Optimal Point: [  -1.           -1.           -1.         -100.00082264]\n",
      "Iterations: 711\n"
     ]
    }
   ],
   "source": [
    "from src.optimizers.fast_gradient_method import FastGradientMethod\n",
    "\n",
    "objective = Quadratic()\n",
    "starting_point = np.array([1, 2, 3, 4])\n",
    "delta = 0.01\n",
    "epsilon = 0.00001\n",
    "estimates = list()\n",
    "iterations = list()\n",
    "\n",
    "optimizer = FastGradientMethod()\n",
    "x = optimizer.optimize(starting_point,\n",
    "                       objective,\n",
    "                       epsilon,\n",
    "                       delta)\n",
    "\n",
    "print(f'Optimal Point: {x}')\n",
    "print(f'Iterations: {optimizer.iterations}')"
   ]
  }
 ],
 "metadata": {
  "kernelspec": {
   "display_name": "Python 3",
   "language": "python",
   "name": "python3"
  },
  "language_info": {
   "codemirror_mode": {
    "name": "ipython",
    "version": 3
   },
   "file_extension": ".py",
   "mimetype": "text/x-python",
   "name": "python",
   "nbconvert_exporter": "python",
   "pygments_lexer": "ipython3",
   "version": "3.7.3"
  }
 },
 "nbformat": 4,
 "nbformat_minor": 2
}
