{
 "cells": [
  {
   "cell_type": "markdown",
   "metadata": {},
   "source": [
    "# Imports"
   ]
  },
  {
   "cell_type": "code",
   "execution_count": 1,
   "metadata": {},
   "outputs": [],
   "source": [
    "import numpy as np"
   ]
  },
  {
   "cell_type": "markdown",
   "metadata": {},
   "source": [
    "# Algorithm: Gradient Method with Exact Minimization"
   ]
  },
  {
   "cell_type": "code",
   "execution_count": 2,
   "metadata": {},
   "outputs": [],
   "source": [
    "# from IPython.display import Image\n",
    "# Image(\"gradient_method.PNG\")\n",
    "# TODO: Provide details"
   ]
  },
  {
   "cell_type": "code",
   "execution_count": 3,
   "metadata": {},
   "outputs": [],
   "source": [
    "def gradient_method(x_0, delta, epsilon):\n",
    "    Q = np.array([[1, 0, 0, 0],\n",
    "                  [0, 1, 0, 0],\n",
    "                  [0, 0, 1, 0],\n",
    "                  [0, 0, 0, delta]])\n",
    "    c = np.array([1, 1, 1, 1])\n",
    "    x = x_0\n",
    "    k = 0\n",
    "    while np.linalg.norm(dfunct(Q, c, x)) >= epsilon:\n",
    "        # print(np.linalg.norm(dfunct(Q, c, x)))\n",
    "        # print(k)\n",
    "        descent_direction = -1 * dfunct(Q, c, x)\n",
    "\n",
    "        step_size = exact_minimization(Q, c, x, descent_direction)\n",
    "\n",
    "        # update step\n",
    "        x = x + step_size * descent_direction\n",
    "\n",
    "        k += 1\n",
    "\n",
    "    print('Final parameters are \\n'\n",
    "          'x => {x}\\n'\n",
    "          'iterations => {k}\\n'\n",
    "          'delta => {delta}\\n'\n",
    "          'Q => \\n {Q}'.format(x=x,\n",
    "                               k=k,\n",
    "                               delta=delta,\n",
    "                               Q=Q))"
   ]
  },
  {
   "cell_type": "markdown",
   "metadata": {},
   "source": [
    "# Step Size: Exact Minimization Rule for strongly convex quadratics"
   ]
  },
  {
   "cell_type": "code",
   "execution_count": 4,
   "metadata": {},
   "outputs": [],
   "source": [
    "# TODO: Provide details"
   ]
  },
  {
   "cell_type": "code",
   "execution_count": 5,
   "metadata": {},
   "outputs": [],
   "source": [
    "def exact_minimization(Q, c, x, d):\n",
    "    g = dfunct(Q, c, x)\n",
    "    return -1 * g.T.dot(d) / d.T.dot(Q).dot(d)"
   ]
  },
  {
   "cell_type": "markdown",
   "metadata": {},
   "source": [
    "# Strongly Convex Quadratic Function"
   ]
  },
  {
   "cell_type": "code",
   "execution_count": 6,
   "metadata": {},
   "outputs": [],
   "source": [
    "# TODO: Provide more detail"
   ]
  },
  {
   "cell_type": "code",
   "execution_count": 7,
   "metadata": {},
   "outputs": [],
   "source": [
    "def funct(Q, c, x, gamma):\n",
    "    return 0.5 * x.T.dot(Q).dot(x) + c + gamma\n",
    "\n",
    "\n",
    "def dfunct(Q, c, x):\n",
    "    return Q.dot(x) + c"
   ]
  },
  {
   "cell_type": "markdown",
   "metadata": {},
   "source": [
    "# Example"
   ]
  },
  {
   "cell_type": "code",
   "execution_count": 8,
   "metadata": {},
   "outputs": [
    {
     "name": "stdout",
     "output_type": "stream",
     "text": [
      "Final parameters are \n",
      "x => [-1.00000051 -1.00000076 -1.00000101 -9.99994747]\n",
      "iterations => 23\n",
      "delta => 0.1\n",
      "Q => \n",
      " [[1.  0.  0.  0. ]\n",
      " [0.  1.  0.  0. ]\n",
      " [0.  0.  1.  0. ]\n",
      " [0.  0.  0.  0.1]]\n",
      "Final parameters are \n",
      "x => [ -1.00000067  -1.000001    -1.00000134 -99.99906642]\n",
      "iterations => 91\n",
      "delta => 0.01\n",
      "Q => \n",
      " [[1.   0.   0.   0.  ]\n",
      " [0.   1.   0.   0.  ]\n",
      " [0.   0.   1.   0.  ]\n",
      " [0.   0.   0.   0.01]]\n",
      "Final parameters are \n",
      "x => [  -1.00000067   -1.000001     -1.00000134 -999.99035134]\n",
      "iterations => 761\n",
      "delta => 0.001\n",
      "Q => \n",
      " [[1.    0.    0.    0.   ]\n",
      " [0.    1.    0.    0.   ]\n",
      " [0.    0.    1.    0.   ]\n",
      " [0.    0.    0.    0.001]]\n",
      "Final parameters are \n",
      "x => [-1.00000068e+00 -1.00000101e+00 -1.00000135e+00 -9.99990196e+03]\n",
      "iterations => 7449\n",
      "delta => 0.0001\n",
      "Q => \n",
      " [[1.e+00 0.e+00 0.e+00 0.e+00]\n",
      " [0.e+00 1.e+00 0.e+00 0.e+00]\n",
      " [0.e+00 0.e+00 1.e+00 0.e+00]\n",
      " [0.e+00 0.e+00 0.e+00 1.e-04]]\n",
      "Final parameters are \n",
      "x => [-1.00000068e+00 -1.00000102e+00 -1.00000136e+00 -9.99990169e+04]\n",
      "iterations => 74321\n",
      "delta => 1e-05\n",
      "Q => \n",
      " [[1.e+00 0.e+00 0.e+00 0.e+00]\n",
      " [0.e+00 1.e+00 0.e+00 0.e+00]\n",
      " [0.e+00 0.e+00 1.e+00 0.e+00]\n",
      " [0.e+00 0.e+00 0.e+00 1.e-05]]\n",
      "Final parameters are \n",
      "x => [-1.00000068e+00 -1.00000102e+00 -1.00000136e+00 -9.99990168e+05]\n",
      "iterations => 743055\n",
      "delta => 1e-06\n",
      "Q => \n",
      " [[1.e+00 0.e+00 0.e+00 0.e+00]\n",
      " [0.e+00 1.e+00 0.e+00 0.e+00]\n",
      " [0.e+00 0.e+00 1.e+00 0.e+00]\n",
      " [0.e+00 0.e+00 0.e+00 1.e-06]]\n"
     ]
    }
   ],
   "source": [
    "deltas = [0.1, 0.01, 0.001, 0.0001, 0.00001, 0.000001]\n",
    "for delta in deltas:\n",
    "    gradient_method(x_0=np.array([1, 2, 3, 4]),\n",
    "                    delta=delta,\n",
    "                    epsilon=0.00001)"
   ]
  }
 ],
 "metadata": {
  "kernelspec": {
   "display_name": "Python 3",
   "language": "python",
   "name": "python3"
  },
  "language_info": {
   "codemirror_mode": {
    "name": "ipython",
    "version": 3
   },
   "file_extension": ".py",
   "mimetype": "text/x-python",
   "name": "python",
   "nbconvert_exporter": "python",
   "pygments_lexer": "ipython3",
   "version": "3.6.4"
  }
 },
 "nbformat": 4,
 "nbformat_minor": 2
}
